{
 "cells": [
  {
   "cell_type": "code",
   "execution_count": null,
   "metadata": {},
   "outputs": [],
   "source": [
    "%pip install pythainlp"
   ]
  },
  {
   "cell_type": "code",
   "execution_count": 13,
   "metadata": {},
   "outputs": [],
   "source": [
    "from pythainlp import word_tokenize\n",
    "from pythainlp.util import normalize\n",
    "from pythainlp import spell"
   ]
  },
  {
   "cell_type": "code",
   "execution_count": 17,
   "metadata": {},
   "outputs": [
    {
     "name": "stdout",
     "output_type": "stream",
     "text": [
      "['ถ้า', 'คู่พิพาท', 'ไม่', 'ปฏิบัติตาม', 'กระบวนการ', 'อนุญาโตตุลาการ', 'จะ', 'จบ', 'ยังไง', '?']\n"
     ]
    }
   ],
   "source": [
    "word = 'ถ้าคู่พิพาทไม่ปฏิบัติตามกระบวนการอนุญาโตตุลาการจะจบยังไง?'\n",
    "\n",
    "print(word_tokenize(normalize(word)))\n"
   ]
  }
 ],
 "metadata": {
  "kernelspec": {
   "display_name": "Python 3.9.13 ('autobot')",
   "language": "python",
   "name": "python3"
  },
  "language_info": {
   "codemirror_mode": {
    "name": "ipython",
    "version": 3
   },
   "file_extension": ".py",
   "mimetype": "text/x-python",
   "name": "python",
   "nbconvert_exporter": "python",
   "pygments_lexer": "ipython3",
   "version": "3.9.13"
  },
  "orig_nbformat": 4,
  "vscode": {
   "interpreter": {
    "hash": "bc1ae1c4a63fb27a31f43134f4e5db0402df2726bb103cc85ed273abf3107fe7"
   }
  }
 },
 "nbformat": 4,
 "nbformat_minor": 2
}
