{
 "cells": [
  {
   "cell_type": "markdown",
   "metadata": {},
   "source": [
    "# Environment Setup"
   ]
  },
  {
   "cell_type": "markdown",
   "metadata": {},
   "source": [
    "### _Create new environment and activate_\n",
    "\n",
    "```\n",
    "conda create -n autobot python=3.9\n",
    "conda activate autobot\n",
    "```"
   ]
  },
  {
   "cell_type": "markdown",
   "metadata": {},
   "source": [
    "### _Install Packages (OSX)_"
   ]
  },
  {
   "cell_type": "code",
   "execution_count": 9,
   "metadata": {},
   "outputs": [
    {
     "name": "stdout",
     "output_type": "stream",
     "text": [
      "Collecting package metadata (current_repodata.json): done\n",
      "Solving environment: done\n",
      "\n",
      "# All requested packages already installed.\n",
      "\n",
      "\n",
      "Note: you may need to restart the kernel to use updated packages.\n",
      "Requirement already satisfied: tensorflow-macos==2.9.0 in /opt/homebrew/Caskroom/miniforge/base/envs/autobot/lib/python3.9/site-packages (2.9.0)\n",
      "Requirement already satisfied: termcolor>=1.1.0 in /opt/homebrew/Caskroom/miniforge/base/envs/autobot/lib/python3.9/site-packages (from tensorflow-macos==2.9.0) (1.1.0)\n",
      "Requirement already satisfied: tensorflow-estimator<2.10.0,>=2.9.0rc0 in /opt/homebrew/Caskroom/miniforge/base/envs/autobot/lib/python3.9/site-packages (from tensorflow-macos==2.9.0) (2.9.0)\n",
      "Requirement already satisfied: keras<2.10.0,>=2.9.0rc0 in /opt/homebrew/Caskroom/miniforge/base/envs/autobot/lib/python3.9/site-packages (from tensorflow-macos==2.9.0) (2.9.0)\n",
      "Requirement already satisfied: opt-einsum>=2.3.2 in /opt/homebrew/Caskroom/miniforge/base/envs/autobot/lib/python3.9/site-packages (from tensorflow-macos==2.9.0) (3.3.0)\n",
      "Requirement already satisfied: gast<=0.4.0,>=0.2.1 in /opt/homebrew/Caskroom/miniforge/base/envs/autobot/lib/python3.9/site-packages (from tensorflow-macos==2.9.0) (0.4.0)\n",
      "Requirement already satisfied: tensorboard<2.10,>=2.9 in /opt/homebrew/Caskroom/miniforge/base/envs/autobot/lib/python3.9/site-packages (from tensorflow-macos==2.9.0) (2.9.1)\n",
      "Requirement already satisfied: flatbuffers<2,>=1.12 in /opt/homebrew/Caskroom/miniforge/base/envs/autobot/lib/python3.9/site-packages (from tensorflow-macos==2.9.0) (1.12)\n",
      "Requirement already satisfied: wrapt>=1.11.0 in /opt/homebrew/Caskroom/miniforge/base/envs/autobot/lib/python3.9/site-packages (from tensorflow-macos==2.9.0) (1.14.1)\n",
      "Requirement already satisfied: numpy>=1.20 in /opt/homebrew/Caskroom/miniforge/base/envs/autobot/lib/python3.9/site-packages (from tensorflow-macos==2.9.0) (1.23.1)\n",
      "Requirement already satisfied: typing-extensions>=3.6.6 in /opt/homebrew/Caskroom/miniforge/base/envs/autobot/lib/python3.9/site-packages (from tensorflow-macos==2.9.0) (4.3.0)\n",
      "Requirement already satisfied: absl-py>=1.0.0 in /opt/homebrew/Caskroom/miniforge/base/envs/autobot/lib/python3.9/site-packages (from tensorflow-macos==2.9.0) (1.1.0)\n",
      "Requirement already satisfied: libclang>=13.0.0 in /opt/homebrew/Caskroom/miniforge/base/envs/autobot/lib/python3.9/site-packages (from tensorflow-macos==2.9.0) (14.0.1)\n",
      "Requirement already satisfied: protobuf>=3.9.2 in /opt/homebrew/Caskroom/miniforge/base/envs/autobot/lib/python3.9/site-packages (from tensorflow-macos==2.9.0) (3.19.4)\n",
      "Requirement already satisfied: six>=1.12.0 in /opt/homebrew/Caskroom/miniforge/base/envs/autobot/lib/python3.9/site-packages (from tensorflow-macos==2.9.0) (1.15.0)\n",
      "Requirement already satisfied: keras-preprocessing>=1.1.1 in /opt/homebrew/Caskroom/miniforge/base/envs/autobot/lib/python3.9/site-packages (from tensorflow-macos==2.9.0) (1.1.2)\n",
      "Requirement already satisfied: google-pasta>=0.1.1 in /opt/homebrew/Caskroom/miniforge/base/envs/autobot/lib/python3.9/site-packages (from tensorflow-macos==2.9.0) (0.2.0)\n",
      "Requirement already satisfied: packaging in /opt/homebrew/Caskroom/miniforge/base/envs/autobot/lib/python3.9/site-packages (from tensorflow-macos==2.9.0) (21.3)\n",
      "Requirement already satisfied: astunparse>=1.6.0 in /opt/homebrew/Caskroom/miniforge/base/envs/autobot/lib/python3.9/site-packages (from tensorflow-macos==2.9.0) (1.6.3)\n",
      "Requirement already satisfied: h5py>=2.9.0 in /opt/homebrew/Caskroom/miniforge/base/envs/autobot/lib/python3.9/site-packages (from tensorflow-macos==2.9.0) (3.7.0)\n",
      "Requirement already satisfied: setuptools in /opt/homebrew/Caskroom/miniforge/base/envs/autobot/lib/python3.9/site-packages (from tensorflow-macos==2.9.0) (63.1.0)\n",
      "Requirement already satisfied: grpcio<2.0,>=1.24.3 in /opt/homebrew/Caskroom/miniforge/base/envs/autobot/lib/python3.9/site-packages (from tensorflow-macos==2.9.0) (1.47.0)\n",
      "Requirement already satisfied: wheel<1.0,>=0.23.0 in /opt/homebrew/Caskroom/miniforge/base/envs/autobot/lib/python3.9/site-packages (from astunparse>=1.6.0->tensorflow-macos==2.9.0) (0.37.1)\n",
      "Requirement already satisfied: tensorboard-data-server<0.7.0,>=0.6.0 in /opt/homebrew/Caskroom/miniforge/base/envs/autobot/lib/python3.9/site-packages (from tensorboard<2.10,>=2.9->tensorflow-macos==2.9.0) (0.6.1)\n",
      "Requirement already satisfied: google-auth-oauthlib<0.5,>=0.4.1 in /opt/homebrew/Caskroom/miniforge/base/envs/autobot/lib/python3.9/site-packages (from tensorboard<2.10,>=2.9->tensorflow-macos==2.9.0) (0.4.6)\n",
      "Requirement already satisfied: requests<3,>=2.21.0 in /opt/homebrew/Caskroom/miniforge/base/envs/autobot/lib/python3.9/site-packages (from tensorboard<2.10,>=2.9->tensorflow-macos==2.9.0) (2.28.1)\n",
      "Requirement already satisfied: tensorboard-plugin-wit>=1.6.0 in /opt/homebrew/Caskroom/miniforge/base/envs/autobot/lib/python3.9/site-packages (from tensorboard<2.10,>=2.9->tensorflow-macos==2.9.0) (1.8.1)\n",
      "Requirement already satisfied: markdown>=2.6.8 in /opt/homebrew/Caskroom/miniforge/base/envs/autobot/lib/python3.9/site-packages (from tensorboard<2.10,>=2.9->tensorflow-macos==2.9.0) (3.3.7)\n",
      "Requirement already satisfied: google-auth<3,>=1.6.3 in /opt/homebrew/Caskroom/miniforge/base/envs/autobot/lib/python3.9/site-packages (from tensorboard<2.10,>=2.9->tensorflow-macos==2.9.0) (2.9.0)\n",
      "Requirement already satisfied: werkzeug>=1.0.1 in /opt/homebrew/Caskroom/miniforge/base/envs/autobot/lib/python3.9/site-packages (from tensorboard<2.10,>=2.9->tensorflow-macos==2.9.0) (2.1.2)\n",
      "Requirement already satisfied: pyparsing!=3.0.5,>=2.0.2 in /opt/homebrew/Caskroom/miniforge/base/envs/autobot/lib/python3.9/site-packages (from packaging->tensorflow-macos==2.9.0) (3.0.9)\n",
      "Requirement already satisfied: cachetools<6.0,>=2.0.0 in /opt/homebrew/Caskroom/miniforge/base/envs/autobot/lib/python3.9/site-packages (from google-auth<3,>=1.6.3->tensorboard<2.10,>=2.9->tensorflow-macos==2.9.0) (5.2.0)\n",
      "Requirement already satisfied: rsa<5,>=3.1.4 in /opt/homebrew/Caskroom/miniforge/base/envs/autobot/lib/python3.9/site-packages (from google-auth<3,>=1.6.3->tensorboard<2.10,>=2.9->tensorflow-macos==2.9.0) (4.8)\n",
      "Requirement already satisfied: pyasn1-modules>=0.2.1 in /opt/homebrew/Caskroom/miniforge/base/envs/autobot/lib/python3.9/site-packages (from google-auth<3,>=1.6.3->tensorboard<2.10,>=2.9->tensorflow-macos==2.9.0) (0.2.8)\n",
      "Requirement already satisfied: requests-oauthlib>=0.7.0 in /opt/homebrew/Caskroom/miniforge/base/envs/autobot/lib/python3.9/site-packages (from google-auth-oauthlib<0.5,>=0.4.1->tensorboard<2.10,>=2.9->tensorflow-macos==2.9.0) (1.3.1)\n",
      "Requirement already satisfied: importlib-metadata>=4.4 in /opt/homebrew/Caskroom/miniforge/base/envs/autobot/lib/python3.9/site-packages (from markdown>=2.6.8->tensorboard<2.10,>=2.9->tensorflow-macos==2.9.0) (4.12.0)\n",
      "Requirement already satisfied: urllib3<1.27,>=1.21.1 in /opt/homebrew/Caskroom/miniforge/base/envs/autobot/lib/python3.9/site-packages (from requests<3,>=2.21.0->tensorboard<2.10,>=2.9->tensorflow-macos==2.9.0) (1.26.10)\n",
      "Requirement already satisfied: charset-normalizer<3,>=2 in /opt/homebrew/Caskroom/miniforge/base/envs/autobot/lib/python3.9/site-packages (from requests<3,>=2.21.0->tensorboard<2.10,>=2.9->tensorflow-macos==2.9.0) (2.1.0)\n",
      "Requirement already satisfied: idna<4,>=2.5 in /opt/homebrew/Caskroom/miniforge/base/envs/autobot/lib/python3.9/site-packages (from requests<3,>=2.21.0->tensorboard<2.10,>=2.9->tensorflow-macos==2.9.0) (3.3)\n",
      "Requirement already satisfied: certifi>=2017.4.17 in /opt/homebrew/Caskroom/miniforge/base/envs/autobot/lib/python3.9/site-packages (from requests<3,>=2.21.0->tensorboard<2.10,>=2.9->tensorflow-macos==2.9.0) (2022.6.15)\n",
      "Requirement already satisfied: zipp>=0.5 in /opt/homebrew/Caskroom/miniforge/base/envs/autobot/lib/python3.9/site-packages (from importlib-metadata>=4.4->markdown>=2.6.8->tensorboard<2.10,>=2.9->tensorflow-macos==2.9.0) (3.8.0)\n",
      "Requirement already satisfied: pyasn1<0.5.0,>=0.4.6 in /opt/homebrew/Caskroom/miniforge/base/envs/autobot/lib/python3.9/site-packages (from pyasn1-modules>=0.2.1->google-auth<3,>=1.6.3->tensorboard<2.10,>=2.9->tensorflow-macos==2.9.0) (0.4.8)\n",
      "Requirement already satisfied: oauthlib>=3.0.0 in /opt/homebrew/Caskroom/miniforge/base/envs/autobot/lib/python3.9/site-packages (from requests-oauthlib>=0.7.0->google-auth-oauthlib<0.5,>=0.4.1->tensorboard<2.10,>=2.9->tensorflow-macos==2.9.0) (3.2.0)\n",
      "Note: you may need to restart the kernel to use updated packages.\n",
      "Requirement already satisfied: tensorflow-metal in /opt/homebrew/Caskroom/miniforge/base/envs/autobot/lib/python3.9/site-packages (0.5.0)\n",
      "Requirement already satisfied: wheel~=0.35 in /opt/homebrew/Caskroom/miniforge/base/envs/autobot/lib/python3.9/site-packages (from tensorflow-metal) (0.37.1)\n",
      "Requirement already satisfied: six~=1.15.0 in /opt/homebrew/Caskroom/miniforge/base/envs/autobot/lib/python3.9/site-packages (from tensorflow-metal) (1.15.0)\n",
      "Note: you may need to restart the kernel to use updated packages.\n",
      "Requirement already satisfied: pandas in /opt/homebrew/Caskroom/miniforge/base/envs/autobot/lib/python3.9/site-packages (1.4.3)\n",
      "Requirement already satisfied: pytz>=2020.1 in /opt/homebrew/Caskroom/miniforge/base/envs/autobot/lib/python3.9/site-packages (from pandas) (2022.1)\n",
      "Requirement already satisfied: numpy>=1.20.0 in /opt/homebrew/Caskroom/miniforge/base/envs/autobot/lib/python3.9/site-packages (from pandas) (1.23.1)\n",
      "Requirement already satisfied: python-dateutil>=2.8.1 in /opt/homebrew/Caskroom/miniforge/base/envs/autobot/lib/python3.9/site-packages (from pandas) (2.8.2)\n",
      "Requirement already satisfied: six>=1.5 in /opt/homebrew/Caskroom/miniforge/base/envs/autobot/lib/python3.9/site-packages (from python-dateutil>=2.8.1->pandas) (1.15.0)\n",
      "Note: you may need to restart the kernel to use updated packages.\n",
      "Collecting sklearn\n",
      "  Downloading sklearn-0.0.tar.gz (1.1 kB)\n",
      "  Preparing metadata (setup.py) ... \u001b[?25ldone\n",
      "\u001b[?25hCollecting scikit-learn\n",
      "  Using cached scikit_learn-1.1.1-cp39-cp39-macosx_12_0_arm64.whl (7.7 MB)\n",
      "Requirement already satisfied: numpy>=1.17.3 in /opt/homebrew/Caskroom/miniforge/base/envs/autobot/lib/python3.9/site-packages (from scikit-learn->sklearn) (1.23.1)\n",
      "Collecting threadpoolctl>=2.0.0\n",
      "  Downloading threadpoolctl-3.1.0-py3-none-any.whl (14 kB)\n",
      "Collecting scipy>=1.3.2\n",
      "  Using cached scipy-1.8.1-cp39-cp39-macosx_12_0_arm64.whl (28.7 MB)\n",
      "Collecting joblib>=1.0.0\n",
      "  Using cached joblib-1.1.0-py2.py3-none-any.whl (306 kB)\n",
      "Building wheels for collected packages: sklearn\n",
      "  Building wheel for sklearn (setup.py) ... \u001b[?25ldone\n",
      "\u001b[?25h  Created wheel for sklearn: filename=sklearn-0.0-py2.py3-none-any.whl size=1304 sha256=5ed294a2c3910aabc0a7614ff602a6a1781812d10c4acbfa7bfa4fb80f62d041\n",
      "  Stored in directory: /Users/setta/Library/Caches/pip/wheels/e4/7b/98/b6466d71b8d738a0c547008b9eb39bf8676d1ff6ca4b22af1c\n",
      "Successfully built sklearn\n",
      "Installing collected packages: threadpoolctl, scipy, joblib, scikit-learn, sklearn\n",
      "Successfully installed joblib-1.1.0 scikit-learn-1.1.1 scipy-1.8.1 sklearn-0.0 threadpoolctl-3.1.0\n",
      "Note: you may need to restart the kernel to use updated packages.\n"
     ]
    }
   ],
   "source": [
    "%conda install -c apple tensorflow-deps==2.9.0\n",
    "%pip install tensorflow-macos==2.9.0\n",
    "%pip install tensorflow-metal\n",
    "%pip install pandas\n",
    "%pip install sklearn"
   ]
  },
  {
   "cell_type": "markdown",
   "metadata": {},
   "source": [
    "### _For Macbook M1_\n",
    "\n",
    "download tensorflow-text package\n",
    "- Python 3.8\n",
    "  https://github.com/sun1638650145/Libraries-and-Extensions-for-TensorFlow-for-Apple-Silicon/releases/download/v2.9/tensorflow_text-2.9.0-cp38-cp38-macosx_11_0_arm64.whl\n",
    "- Python 3.9\n",
    "  https://github.com/sun1638650145/Libraries-and-Extensions-for-TensorFlow-for-Apple-Silicon/releases/download/v2.9/tensorflow_text-2.9.0-cp39-cp39-macosx_11_0_arm64.whl\n",
    "\n",
    "and run\n",
    "\n",
    "```pip install _DOWNLOAD_FILE_```"
   ]
  },
  {
   "cell_type": "markdown",
   "metadata": {},
   "source": [
    "# Execute Notebook"
   ]
  },
  {
   "cell_type": "markdown",
   "metadata": {},
   "source": [
    "### _Import Libraries_"
   ]
  },
  {
   "cell_type": "code",
   "execution_count": 10,
   "metadata": {},
   "outputs": [],
   "source": [
    "import tensorflow as tf\n",
    "import tensorflow_hub as hub\n",
    "import tensorflow_text # Important: this library is not used but needed\n",
    "\n",
    "import numpy as np\n",
    "import pandas as pd\n",
    "import sklearn"
   ]
  },
  {
   "cell_type": "markdown",
   "metadata": {},
   "source": [
    "### _Declare Constants_"
   ]
  },
  {
   "cell_type": "code",
   "execution_count": 2,
   "metadata": {},
   "outputs": [
    {
     "name": "stdout",
     "output_type": "stream",
     "text": [
      "Metal device set to: Apple M1\n",
      "\n",
      "systemMemory: 16.00 GB\n",
      "maxCacheSize: 5.33 GB\n",
      "\n"
     ]
    },
    {
     "name": "stderr",
     "output_type": "stream",
     "text": [
      "2022-07-14 21:17:54.172354: I tensorflow/core/common_runtime/pluggable_device/pluggable_device_factory.cc:305] Could not identify NUMA node of platform GPU ID 0, defaulting to 0. Your kernel may not have been built with NUMA support.\n",
      "2022-07-14 21:17:54.172939: I tensorflow/core/common_runtime/pluggable_device/pluggable_device_factory.cc:271] Created TensorFlow device (/job:localhost/replica:0/task:0/device:GPU:0 with 0 MB memory) -> physical PluggableDevice (device: 0, name: METAL, pci bus id: <undefined>)\n",
      "2022-07-14 21:17:56.744781: W tensorflow/core/platform/profile_utils/cpu_utils.cc:128] Failed to get CPU frequency: 0 Hz\n",
      "2022-07-14 21:17:56.750088: I tensorflow/core/grappler/optimizers/custom_graph_optimizer_registry.cc:113] Plugin optimizer for device_type GPU is enabled.\n"
     ]
    }
   ],
   "source": [
    "intent_keyword_csv = 'dataset/dip_keyword_v1.csv'\n",
    "intent_label_csv = 'dataset/dip_answer_v1.csv'\n",
    "encoder_url = 'https://tfhub.dev/google/universal-sentence-encoder-multilingual/3'\n",
    "\n",
    "# load encoder model\n",
    "encoder = hub.load(encoder_url)\n",
    "\n",
    "def embed_text(text):\n",
    "    return encoder(text)"
   ]
  },
  {
   "cell_type": "markdown",
   "metadata": {},
   "source": [
    "### _Import Dataset_"
   ]
  },
  {
   "cell_type": "code",
   "execution_count": 3,
   "metadata": {},
   "outputs": [
    {
     "name": "stdout",
     "output_type": "stream",
     "text": [
      "    intent_id                            keyword\n",
      "0  1650358265                          สิทธิบัตร\n",
      "1  1650358265                    สอบถามสิทธิบัตร\n",
      "2  1650359775                      DIP e-Service\n",
      "3  1650359775          แอพพลิเคชัน DIP e-Service\n",
      "4  1650359775  ดาวน์โหลดแอพลิเคชัน DIP e-Service\n",
      "5  1650359775                             แอพIOS\n",
      "6  1650359775                         แอพAndroid\n",
      "7  1650359775                             AppIOS\n",
      "8  1650359775                         AppAndroid\n",
      "9  1650359841                     ส่งคำร้องเรียน\n",
      "total class in dataset = 403\n"
     ]
    },
    {
     "name": "stderr",
     "output_type": "stream",
     "text": [
      "2022-07-14 21:18:30.852826: I tensorflow/core/grappler/optimizers/custom_graph_optimizer_registry.cc:113] Plugin optimizer for device_type GPU is enabled.\n"
     ]
    },
    {
     "name": "stdout",
     "output_type": "stream",
     "text": [
      "สิทธิบัตร 401\n"
     ]
    }
   ],
   "source": [
    "df = pd.read_csv(intent_keyword_csv)\n",
    "print(df.head(10))\n",
    "\n",
    "class_names = list(set(df['intent_id'].to_list()))\n",
    "print(f'total class in dataset = {len(class_names)}')\n",
    "\n",
    "intents = df['intent_id']\n",
    "keywords = df['keyword']\n",
    "\n",
    "features = []\n",
    "labels = []\n",
    "\n",
    "# embedding keywords\n",
    "for i, keyword in enumerate(keywords):\n",
    "    embed = embed_text(keyword)\n",
    "    # print(i, keyword)\n",
    "    features.append(embed)\n",
    "    \n",
    "    for j, name in enumerate(class_names):\n",
    "        if (name == intents[i]):\n",
    "            labels.append(j)\n",
    "\n",
    "print(keywords[0], labels[0])"
   ]
  },
  {
   "cell_type": "markdown",
   "metadata": {},
   "source": [
    "### _One-Hot Encoding_"
   ]
  },
  {
   "cell_type": "code",
   "execution_count": 5,
   "metadata": {},
   "outputs": [
    {
     "name": "stdout",
     "output_type": "stream",
     "text": [
      "(1135, 1, 512)\n",
      "(1135, 403)\n"
     ]
    }
   ],
   "source": [
    "features = np.array(features)\n",
    "labels = np.array(labels)\n",
    "\n",
    "labels_onehot = np.zeros([labels.size, labels.max() + 1])\n",
    "labels_onehot[np.arange(labels.size), labels] = 1\n",
    "\n",
    "print(features.shape)\n",
    "print(labels_onehot.shape)\n"
   ]
  },
  {
   "cell_type": "markdown",
   "metadata": {},
   "source": [
    "### _Convert to TensorFlow Dataset_"
   ]
  },
  {
   "cell_type": "code",
   "execution_count": 6,
   "metadata": {},
   "outputs": [],
   "source": [
    "dataset = tf.data.Dataset.from_tensor_slices((features, labels_onehot))\n",
    "\n",
    "# shuffle_buffer_size >= dataset size\n",
    "shuffle_buffer_size = 1000\n",
    "dataset = dataset.shuffle(shuffle_buffer_size)\n",
    "\n",
    "test_size = 0.1\n",
    "batch_size = 16\n",
    "\n",
    "test_samples = round(test_size * len(intents))\n",
    "\n",
    "train_ds = dataset.skip(test_samples)\n",
    "test_ds = dataset.take(test_samples)\n",
    "\n",
    "train_ds = train_ds.batch(batch_size).prefetch(tf.data.AUTOTUNE)\n",
    "test_ds = test_ds.batch(batch_size).prefetch(tf.data.AUTOTUNE)"
   ]
  },
  {
   "cell_type": "markdown",
   "metadata": {},
   "source": [
    "### _Model Definition_"
   ]
  },
  {
   "cell_type": "code",
   "execution_count": 7,
   "metadata": {},
   "outputs": [],
   "source": [
    "def create_model():\n",
    "  model = tf.keras.Sequential([\n",
    "      tf.keras.layers.Bidirectional(tf.keras.layers.LSTM(128, return_sequences=True), input_shape=(1, 512)),\n",
    "      tf.keras.layers.Bidirectional(tf.keras.layers.LSTM(32)),\n",
    "      tf.keras.layers.Dense(64, activation='relu'),\n",
    "      tf.keras.layers.Dropout(0.5),\n",
    "      tf.keras.layers.Dense(len(class_names), activation='softmax')\n",
    "  ])\n",
    "  return model\n",
    "\n",
    "model = create_model()"
   ]
  },
  {
   "cell_type": "markdown",
   "metadata": {},
   "source": [
    "### _Compile and Define Callbacks_\n",
    "\n",
    "Adam is usually faster, but SGD is more likely to achieve global minimum\n",
    "\n",
    "Use callbacks to stop training / save model checkpoints"
   ]
  },
  {
   "cell_type": "code",
   "execution_count": 8,
   "metadata": {},
   "outputs": [
    {
     "name": "stdout",
     "output_type": "stream",
     "text": [
      "Model: \"sequential\"\n",
      "_________________________________________________________________\n",
      " Layer (type)                Output Shape              Param #   \n",
      "=================================================================\n",
      " bidirectional (Bidirectiona  (None, 1, 256)           656384    \n",
      " l)                                                              \n",
      "                                                                 \n",
      " bidirectional_1 (Bidirectio  (None, 64)               73984     \n",
      " nal)                                                            \n",
      "                                                                 \n",
      " dense (Dense)               (None, 64)                4160      \n",
      "                                                                 \n",
      " dropout (Dropout)           (None, 64)                0         \n",
      "                                                                 \n",
      " dense_1 (Dense)             (None, 403)               26195     \n",
      "                                                                 \n",
      "=================================================================\n",
      "Total params: 760,723\n",
      "Trainable params: 760,723\n",
      "Non-trainable params: 0\n",
      "_________________________________________________________________\n"
     ]
    }
   ],
   "source": [
    "model.compile(\n",
    "    loss = 'categorical_crossentropy',\n",
    "    optimizer = 'adam',\n",
    "    metrics = ['accuracy']\n",
    ")\n",
    "\n",
    "model.summary()\n",
    "\n",
    "callbacks = []\n",
    "\n",
    "early_stop = tf.keras.callbacks.EarlyStopping(\n",
    "    monitor='val_loss',\n",
    "    min_delta=0,\n",
    "    patience=10,\n",
    "    verbose=1,\n",
    "    restore_best_weights=True,\n",
    "    mode='auto'\n",
    ")\n",
    "\n",
    "callbacks.append(early_stop)"
   ]
  },
  {
   "cell_type": "markdown",
   "metadata": {},
   "source": [
    "### _Train the Model_"
   ]
  },
  {
   "cell_type": "code",
   "execution_count": 9,
   "metadata": {},
   "outputs": [
    {
     "name": "stdout",
     "output_type": "stream",
     "text": [
      "Epoch 1/50000000\n"
     ]
    },
    {
     "name": "stderr",
     "output_type": "stream",
     "text": [
      "2022-07-14 21:22:08.590690: I tensorflow/core/grappler/optimizers/custom_graph_optimizer_registry.cc:113] Plugin optimizer for device_type GPU is enabled.\n",
      "2022-07-14 21:22:09.126368: I tensorflow/core/grappler/optimizers/custom_graph_optimizer_registry.cc:113] Plugin optimizer for device_type GPU is enabled.\n",
      "2022-07-14 21:22:09.145346: I tensorflow/core/grappler/optimizers/custom_graph_optimizer_registry.cc:113] Plugin optimizer for device_type GPU is enabled.\n",
      "2022-07-14 21:22:09.297984: I tensorflow/core/grappler/optimizers/custom_graph_optimizer_registry.cc:113] Plugin optimizer for device_type GPU is enabled.\n",
      "2022-07-14 21:22:09.311834: I tensorflow/core/grappler/optimizers/custom_graph_optimizer_registry.cc:113] Plugin optimizer for device_type GPU is enabled.\n",
      "2022-07-14 21:22:09.915749: I tensorflow/core/grappler/optimizers/custom_graph_optimizer_registry.cc:113] Plugin optimizer for device_type GPU is enabled.\n",
      "2022-07-14 21:22:09.936911: I tensorflow/core/grappler/optimizers/custom_graph_optimizer_registry.cc:113] Plugin optimizer for device_type GPU is enabled.\n",
      "2022-07-14 21:22:10.127151: I tensorflow/core/grappler/optimizers/custom_graph_optimizer_registry.cc:113] Plugin optimizer for device_type GPU is enabled.\n",
      "2022-07-14 21:22:10.149063: I tensorflow/core/grappler/optimizers/custom_graph_optimizer_registry.cc:113] Plugin optimizer for device_type GPU is enabled.\n"
     ]
    },
    {
     "name": "stdout",
     "output_type": "stream",
     "text": [
      "64/64 [==============================] - ETA: 0s - loss: 5.9872 - accuracy: 0.0196"
     ]
    },
    {
     "name": "stderr",
     "output_type": "stream",
     "text": [
      "2022-07-14 21:22:13.214113: I tensorflow/core/grappler/optimizers/custom_graph_optimizer_registry.cc:113] Plugin optimizer for device_type GPU is enabled.\n",
      "2022-07-14 21:22:13.403673: I tensorflow/core/grappler/optimizers/custom_graph_optimizer_registry.cc:113] Plugin optimizer for device_type GPU is enabled.\n",
      "2022-07-14 21:22:13.413065: I tensorflow/core/grappler/optimizers/custom_graph_optimizer_registry.cc:113] Plugin optimizer for device_type GPU is enabled.\n",
      "2022-07-14 21:22:13.471493: I tensorflow/core/grappler/optimizers/custom_graph_optimizer_registry.cc:113] Plugin optimizer for device_type GPU is enabled.\n",
      "2022-07-14 21:22:13.480951: I tensorflow/core/grappler/optimizers/custom_graph_optimizer_registry.cc:113] Plugin optimizer for device_type GPU is enabled.\n"
     ]
    },
    {
     "name": "stdout",
     "output_type": "stream",
     "text": [
      "64/64 [==============================] - 8s 57ms/step - loss: 5.9872 - accuracy: 0.0196 - val_loss: 5.9297 - val_accuracy: 0.0175\n",
      "Epoch 2/50000000\n",
      "64/64 [==============================] - 2s 25ms/step - loss: 5.7408 - accuracy: 0.0264 - val_loss: 5.5255 - val_accuracy: 0.0351\n",
      "Epoch 3/50000000\n",
      "64/64 [==============================] - 2s 25ms/step - loss: 5.3274 - accuracy: 0.0372 - val_loss: 5.0809 - val_accuracy: 0.0526\n",
      "Epoch 4/50000000\n",
      "64/64 [==============================] - 2s 24ms/step - loss: 5.0394 - accuracy: 0.0480 - val_loss: 4.6994 - val_accuracy: 0.0526\n",
      "Epoch 5/50000000\n",
      "64/64 [==============================] - 2s 24ms/step - loss: 4.7527 - accuracy: 0.0872 - val_loss: 4.5168 - val_accuracy: 0.0789\n",
      "Epoch 6/50000000\n",
      "64/64 [==============================] - 2s 25ms/step - loss: 4.4101 - accuracy: 0.1146 - val_loss: 4.1785 - val_accuracy: 0.1404\n",
      "Epoch 7/50000000\n",
      "64/64 [==============================] - 2s 25ms/step - loss: 4.1104 - accuracy: 0.1538 - val_loss: 3.4247 - val_accuracy: 0.2544\n",
      "Epoch 8/50000000\n",
      "64/64 [==============================] - 2s 24ms/step - loss: 3.8375 - accuracy: 0.1851 - val_loss: 3.2521 - val_accuracy: 0.2895\n",
      "Epoch 9/50000000\n",
      "64/64 [==============================] - 2s 24ms/step - loss: 3.6096 - accuracy: 0.2096 - val_loss: 2.8890 - val_accuracy: 0.3947\n",
      "Epoch 10/50000000\n",
      "64/64 [==============================] - 2s 26ms/step - loss: 3.4135 - accuracy: 0.2321 - val_loss: 3.0928 - val_accuracy: 0.3333\n",
      "Epoch 11/50000000\n",
      "64/64 [==============================] - 2s 27ms/step - loss: 3.2144 - accuracy: 0.2762 - val_loss: 2.7332 - val_accuracy: 0.3947\n",
      "Epoch 12/50000000\n",
      "64/64 [==============================] - 2s 29ms/step - loss: 3.0726 - accuracy: 0.2948 - val_loss: 2.3620 - val_accuracy: 0.4912\n",
      "Epoch 13/50000000\n",
      "64/64 [==============================] - 2s 26ms/step - loss: 2.9477 - accuracy: 0.3007 - val_loss: 2.2386 - val_accuracy: 0.4912\n",
      "Epoch 14/50000000\n",
      "64/64 [==============================] - 2s 31ms/step - loss: 2.8502 - accuracy: 0.3173 - val_loss: 2.2422 - val_accuracy: 0.4298\n",
      "Epoch 15/50000000\n",
      "64/64 [==============================] - 2s 27ms/step - loss: 2.6123 - accuracy: 0.3604 - val_loss: 2.0086 - val_accuracy: 0.5702\n",
      "Epoch 16/50000000\n",
      "64/64 [==============================] - 2s 28ms/step - loss: 2.4829 - accuracy: 0.4084 - val_loss: 1.8683 - val_accuracy: 0.5702\n",
      "Epoch 17/50000000\n",
      "64/64 [==============================] - 2s 29ms/step - loss: 2.4145 - accuracy: 0.4016 - val_loss: 1.9384 - val_accuracy: 0.5614\n",
      "Epoch 18/50000000\n",
      "64/64 [==============================] - 2s 25ms/step - loss: 2.2759 - accuracy: 0.4368 - val_loss: 1.8170 - val_accuracy: 0.6140\n",
      "Epoch 19/50000000\n",
      "64/64 [==============================] - 2s 29ms/step - loss: 2.0758 - accuracy: 0.4672 - val_loss: 1.6289 - val_accuracy: 0.6053\n",
      "Epoch 20/50000000\n",
      "64/64 [==============================] - 2s 28ms/step - loss: 2.0168 - accuracy: 0.4966 - val_loss: 1.4702 - val_accuracy: 0.6754\n",
      "Epoch 21/50000000\n",
      "64/64 [==============================] - 2s 25ms/step - loss: 1.8774 - accuracy: 0.5142 - val_loss: 1.1264 - val_accuracy: 0.7193\n",
      "Epoch 22/50000000\n",
      "64/64 [==============================] - 2s 26ms/step - loss: 1.7959 - accuracy: 0.5240 - val_loss: 1.1974 - val_accuracy: 0.7281\n",
      "Epoch 23/50000000\n",
      "64/64 [==============================] - 2s 29ms/step - loss: 1.7635 - accuracy: 0.5455 - val_loss: 1.0323 - val_accuracy: 0.7807\n",
      "Epoch 24/50000000\n",
      "64/64 [==============================] - 2s 29ms/step - loss: 1.6214 - accuracy: 0.5749 - val_loss: 0.9231 - val_accuracy: 0.8158\n",
      "Epoch 25/50000000\n",
      "64/64 [==============================] - 2s 27ms/step - loss: 1.5416 - accuracy: 0.5867 - val_loss: 0.9568 - val_accuracy: 0.8158\n",
      "Epoch 26/50000000\n",
      "64/64 [==============================] - 2s 26ms/step - loss: 1.4419 - accuracy: 0.6112 - val_loss: 1.0498 - val_accuracy: 0.7018\n",
      "Epoch 27/50000000\n",
      "64/64 [==============================] - 2s 25ms/step - loss: 1.3939 - accuracy: 0.6415 - val_loss: 0.7792 - val_accuracy: 0.8421\n",
      "Epoch 28/50000000\n",
      "64/64 [==============================] - 2s 25ms/step - loss: 1.3317 - accuracy: 0.6543 - val_loss: 0.7391 - val_accuracy: 0.8333\n",
      "Epoch 29/50000000\n",
      "64/64 [==============================] - 2s 24ms/step - loss: 1.2948 - accuracy: 0.6454 - val_loss: 0.7927 - val_accuracy: 0.8158\n",
      "Epoch 30/50000000\n",
      "64/64 [==============================] - 2s 25ms/step - loss: 1.2318 - accuracy: 0.6670 - val_loss: 0.5700 - val_accuracy: 0.8860\n",
      "Epoch 31/50000000\n",
      "64/64 [==============================] - 2s 25ms/step - loss: 1.1409 - accuracy: 0.6738 - val_loss: 0.6128 - val_accuracy: 0.8421\n",
      "Epoch 32/50000000\n",
      "64/64 [==============================] - 2s 28ms/step - loss: 1.0308 - accuracy: 0.7071 - val_loss: 0.4402 - val_accuracy: 0.9123\n",
      "Epoch 33/50000000\n",
      "64/64 [==============================] - 2s 32ms/step - loss: 1.0657 - accuracy: 0.7013 - val_loss: 0.6122 - val_accuracy: 0.8509\n",
      "Epoch 34/50000000\n",
      "64/64 [==============================] - 2s 26ms/step - loss: 0.9705 - accuracy: 0.7365 - val_loss: 0.4104 - val_accuracy: 0.8947\n",
      "Epoch 35/50000000\n",
      "64/64 [==============================] - 2s 27ms/step - loss: 0.9571 - accuracy: 0.7365 - val_loss: 0.4702 - val_accuracy: 0.9035\n",
      "Epoch 36/50000000\n",
      "64/64 [==============================] - 2s 27ms/step - loss: 0.9164 - accuracy: 0.7453 - val_loss: 0.4894 - val_accuracy: 0.8772\n",
      "Epoch 37/50000000\n",
      "64/64 [==============================] - 2s 25ms/step - loss: 0.8845 - accuracy: 0.7522 - val_loss: 0.4739 - val_accuracy: 0.8947\n",
      "Epoch 38/50000000\n",
      "64/64 [==============================] - 2s 33ms/step - loss: 0.8968 - accuracy: 0.7414 - val_loss: 0.3788 - val_accuracy: 0.9474\n",
      "Epoch 39/50000000\n",
      "64/64 [==============================] - 2s 28ms/step - loss: 0.8051 - accuracy: 0.7659 - val_loss: 0.3345 - val_accuracy: 0.9561\n",
      "Epoch 40/50000000\n",
      "64/64 [==============================] - 2s 27ms/step - loss: 0.7787 - accuracy: 0.7777 - val_loss: 0.3559 - val_accuracy: 0.9298\n",
      "Epoch 41/50000000\n",
      "64/64 [==============================] - 2s 27ms/step - loss: 0.7188 - accuracy: 0.7953 - val_loss: 0.3934 - val_accuracy: 0.9035\n",
      "Epoch 42/50000000\n",
      "64/64 [==============================] - 2s 28ms/step - loss: 0.7165 - accuracy: 0.7963 - val_loss: 0.3889 - val_accuracy: 0.8947\n",
      "Epoch 43/50000000\n",
      "64/64 [==============================] - 2s 31ms/step - loss: 0.7154 - accuracy: 0.8022 - val_loss: 0.2914 - val_accuracy: 0.9474\n",
      "Epoch 44/50000000\n",
      "64/64 [==============================] - 2s 26ms/step - loss: 0.7031 - accuracy: 0.7973 - val_loss: 0.3181 - val_accuracy: 0.9474\n",
      "Epoch 45/50000000\n",
      "64/64 [==============================] - 2s 27ms/step - loss: 0.6394 - accuracy: 0.8159 - val_loss: 0.3346 - val_accuracy: 0.8947\n",
      "Epoch 46/50000000\n",
      "64/64 [==============================] - 2s 25ms/step - loss: 0.6523 - accuracy: 0.8119 - val_loss: 0.3275 - val_accuracy: 0.9561\n",
      "Epoch 47/50000000\n",
      "64/64 [==============================] - 2s 25ms/step - loss: 0.5615 - accuracy: 0.8423 - val_loss: 0.3011 - val_accuracy: 0.9474\n",
      "Epoch 48/50000000\n",
      "64/64 [==============================] - 2s 25ms/step - loss: 0.5726 - accuracy: 0.8364 - val_loss: 0.2482 - val_accuracy: 0.9386\n",
      "Epoch 49/50000000\n",
      "64/64 [==============================] - 2s 26ms/step - loss: 0.5453 - accuracy: 0.8423 - val_loss: 0.2535 - val_accuracy: 0.9298\n",
      "Epoch 50/50000000\n",
      "64/64 [==============================] - 2s 25ms/step - loss: 0.5327 - accuracy: 0.8384 - val_loss: 0.2788 - val_accuracy: 0.8947\n",
      "Epoch 51/50000000\n",
      "64/64 [==============================] - 2s 25ms/step - loss: 0.5267 - accuracy: 0.8501 - val_loss: 0.2734 - val_accuracy: 0.9123\n",
      "Epoch 52/50000000\n",
      "64/64 [==============================] - 2s 25ms/step - loss: 0.5279 - accuracy: 0.8462 - val_loss: 0.1691 - val_accuracy: 0.9561\n",
      "Epoch 53/50000000\n",
      "64/64 [==============================] - 2s 25ms/step - loss: 0.4732 - accuracy: 0.8658 - val_loss: 0.2162 - val_accuracy: 0.9298\n",
      "Epoch 54/50000000\n",
      "64/64 [==============================] - 2s 25ms/step - loss: 0.4964 - accuracy: 0.8570 - val_loss: 0.2281 - val_accuracy: 0.9298\n",
      "Epoch 55/50000000\n",
      "64/64 [==============================] - 2s 25ms/step - loss: 0.4634 - accuracy: 0.8550 - val_loss: 0.2166 - val_accuracy: 0.9123\n",
      "Epoch 56/50000000\n",
      "64/64 [==============================] - 2s 25ms/step - loss: 0.4587 - accuracy: 0.8639 - val_loss: 0.2020 - val_accuracy: 0.9298\n",
      "Epoch 57/50000000\n",
      "64/64 [==============================] - 2s 25ms/step - loss: 0.4368 - accuracy: 0.8639 - val_loss: 0.2035 - val_accuracy: 0.9123\n",
      "Epoch 58/50000000\n",
      "64/64 [==============================] - 2s 26ms/step - loss: 0.4404 - accuracy: 0.8717 - val_loss: 0.1654 - val_accuracy: 0.9386\n",
      "Epoch 59/50000000\n",
      "64/64 [==============================] - 2s 26ms/step - loss: 0.4182 - accuracy: 0.8697 - val_loss: 0.1347 - val_accuracy: 0.9474\n",
      "Epoch 60/50000000\n",
      "64/64 [==============================] - 2s 27ms/step - loss: 0.4195 - accuracy: 0.8717 - val_loss: 0.1389 - val_accuracy: 0.9737\n",
      "Epoch 61/50000000\n",
      "64/64 [==============================] - 2s 26ms/step - loss: 0.4055 - accuracy: 0.8717 - val_loss: 0.1471 - val_accuracy: 0.9737\n",
      "Epoch 62/50000000\n",
      "64/64 [==============================] - 2s 25ms/step - loss: 0.3784 - accuracy: 0.8844 - val_loss: 0.1307 - val_accuracy: 0.9649\n",
      "Epoch 63/50000000\n",
      "64/64 [==============================] - 2s 25ms/step - loss: 0.3632 - accuracy: 0.8883 - val_loss: 0.1779 - val_accuracy: 0.9474\n",
      "Epoch 64/50000000\n",
      "64/64 [==============================] - 2s 25ms/step - loss: 0.3601 - accuracy: 0.8864 - val_loss: 0.1866 - val_accuracy: 0.9561\n",
      "Epoch 65/50000000\n",
      "64/64 [==============================] - 2s 25ms/step - loss: 0.3628 - accuracy: 0.8932 - val_loss: 0.1825 - val_accuracy: 0.9123\n",
      "Epoch 66/50000000\n",
      "64/64 [==============================] - 2s 25ms/step - loss: 0.3529 - accuracy: 0.8903 - val_loss: 0.1613 - val_accuracy: 0.9386\n",
      "Epoch 67/50000000\n",
      "64/64 [==============================] - 2s 25ms/step - loss: 0.3331 - accuracy: 0.8942 - val_loss: 0.0797 - val_accuracy: 0.9737\n",
      "Epoch 68/50000000\n",
      "64/64 [==============================] - 2s 26ms/step - loss: 0.2981 - accuracy: 0.9030 - val_loss: 0.1794 - val_accuracy: 0.9386\n",
      "Epoch 69/50000000\n",
      "64/64 [==============================] - 2s 26ms/step - loss: 0.3155 - accuracy: 0.8952 - val_loss: 0.0821 - val_accuracy: 0.9649\n",
      "Epoch 70/50000000\n",
      "64/64 [==============================] - 2s 33ms/step - loss: 0.3049 - accuracy: 0.8972 - val_loss: 0.1994 - val_accuracy: 0.8947\n",
      "Epoch 71/50000000\n",
      "64/64 [==============================] - 2s 26ms/step - loss: 0.3319 - accuracy: 0.8903 - val_loss: 0.1198 - val_accuracy: 0.9386\n",
      "Epoch 72/50000000\n",
      "64/64 [==============================] - 2s 26ms/step - loss: 0.3071 - accuracy: 0.9030 - val_loss: 0.1371 - val_accuracy: 0.9649\n",
      "Epoch 73/50000000\n",
      "64/64 [==============================] - 2s 25ms/step - loss: 0.3055 - accuracy: 0.9050 - val_loss: 0.1193 - val_accuracy: 0.9649\n",
      "Epoch 74/50000000\n",
      "64/64 [==============================] - 2s 25ms/step - loss: 0.3241 - accuracy: 0.8942 - val_loss: 0.0916 - val_accuracy: 0.9649\n",
      "Epoch 75/50000000\n",
      "64/64 [==============================] - 2s 25ms/step - loss: 0.3016 - accuracy: 0.9079 - val_loss: 0.1180 - val_accuracy: 0.9737\n",
      "Epoch 76/50000000\n",
      "64/64 [==============================] - 2s 25ms/step - loss: 0.2750 - accuracy: 0.9070 - val_loss: 0.0816 - val_accuracy: 0.9737\n",
      "Epoch 77/50000000\n",
      "62/64 [============================>.] - ETA: 0s - loss: 0.2513 - accuracy: 0.9194Restoring model weights from the end of the best epoch: 67.\n",
      "64/64 [==============================] - 2s 27ms/step - loss: 0.2499 - accuracy: 0.9187 - val_loss: 0.1617 - val_accuracy: 0.9298\n",
      "Epoch 77: early stopping\n"
     ]
    },
    {
     "name": "stderr",
     "output_type": "stream",
     "text": [
      "WARNING:absl:Found untraced functions such as lstm_cell_1_layer_call_fn, lstm_cell_1_layer_call_and_return_conditional_losses, lstm_cell_2_layer_call_fn, lstm_cell_2_layer_call_and_return_conditional_losses, lstm_cell_4_layer_call_fn while saving (showing 5 of 8). These functions will not be directly callable after loading.\n"
     ]
    },
    {
     "name": "stdout",
     "output_type": "stream",
     "text": [
      "INFO:tensorflow:Assets written to: model/simple/assets\n"
     ]
    },
    {
     "name": "stderr",
     "output_type": "stream",
     "text": [
      "INFO:tensorflow:Assets written to: model/simple/assets\n"
     ]
    }
   ],
   "source": [
    "epochs = 50000000 # With callbacks this can be arbitrarily large\n",
    "\n",
    "history = model.fit(\n",
    "    train_ds,\n",
    "    epochs=epochs,\n",
    "    validation_data=test_ds,\n",
    "    callbacks=callbacks\n",
    ")\n",
    "\n",
    "model.save('model/simple')"
   ]
  },
  {
   "cell_type": "markdown",
   "metadata": {},
   "source": [
    "### _Load Intent Answer_"
   ]
  },
  {
   "cell_type": "code",
   "execution_count": 4,
   "metadata": {},
   "outputs": [
    {
     "name": "stdout",
     "output_type": "stream",
     "text": [
      "0    สามารถดาวน์โหลดแอพลิเคชัน DIP e-Service ได้ทั้...\n",
      "Name: message, dtype: object\n"
     ]
    }
   ],
   "source": [
    "\n",
    "intent_df = pd.read_csv(intent_label_csv)\n",
    "match_intent = intent_df.loc[intent_df['intent_id'] == 1650359775]\n",
    "print(match_intent['message'])"
   ]
  },
  {
   "cell_type": "markdown",
   "metadata": {},
   "source": [
    "### _Load Saved Model_"
   ]
  },
  {
   "cell_type": "code",
   "execution_count": null,
   "metadata": {},
   "outputs": [],
   "source": [
    "model = tf.keras.models.load_model('save/simple')\n",
    "model.summary()"
   ]
  },
  {
   "cell_type": "markdown",
   "metadata": {},
   "source": [
    "### _Testing the Model_"
   ]
  },
  {
   "cell_type": "code",
   "execution_count": 14,
   "metadata": {},
   "outputs": [
    {
     "name": "stdout",
     "output_type": "stream",
     "text": [
      "1/1 [==============================] - 0s 46ms/step\n",
      "[289 285 106  48]\n",
      "289\n",
      "289\n",
      "Input: ร้องเรียนได้ที่ไหน\n",
      "Confidence: 46.64%\n",
      "Result: [1657015867 '1. ทางโทรศัพท์สายด่วน 1368 2. ทางโทรศัพท์ 0-2547-4....']\n",
      "285\n",
      "[[5.48436283e-08 2.28251604e-21 9.01899111e-11 1.15645103e-22\n",
      "  1.87099000e-23 5.74841737e-12 2.30756791e-09 1.25097523e-08\n",
      "  1.00479160e-28 1.06229148e-16 1.83505387e-16 1.31088337e-12\n",
      "  1.05861934e-11 2.15584641e-23 1.05716362e-16 1.20978599e-14\n",
      "  2.70987713e-20 4.36574223e-18 2.26612173e-10 7.77097896e-21\n",
      "  1.67082391e-25 3.32152535e-11 2.33190211e-26 6.36045297e-27\n",
      "  2.05800731e-07 8.50485833e-08 1.36861611e-25 1.00928865e-22\n",
      "  1.79311148e-21 3.57703581e-15 1.84617291e-23 8.72090247e-11\n",
      "  1.00055624e-27 5.29596935e-22 7.65471417e-17 6.49579427e-25\n",
      "  3.40292898e-11 4.75630585e-35 5.10094269e-20 3.96549397e-29\n",
      "  1.29938173e-18 2.56237365e-09 2.45494791e-10 2.24470389e-14\n",
      "  6.05966418e-16 5.17235582e-18 1.05625273e-16 1.88092248e-18\n",
      "  2.33523780e-03 1.15008163e-07 2.38016778e-22 1.24973477e-25\n",
      "  3.67933378e-17 1.71549459e-24 3.94007411e-21 1.69594917e-15\n",
      "  2.72940269e-07 3.04097925e-09 6.98984977e-08 1.67827243e-12\n",
      "  2.18765232e-15 2.18676738e-15 3.41779085e-17 1.49817926e-15\n",
      "  6.01242789e-07 2.26968457e-03 7.30592681e-26 2.72748890e-18\n",
      "  1.10264973e-05 5.46606467e-12 3.92857054e-08 4.32570781e-14\n",
      "  9.34862188e-28 2.91009708e-12 1.27707952e-15 3.66578377e-24\n",
      "  3.22139782e-09 1.02518729e-20 7.40497642e-20 1.57707994e-20\n",
      "  5.63256997e-09 3.85151679e-06 3.09784301e-15 8.77167005e-23\n",
      "  8.96042199e-11 2.78238155e-10 6.86202103e-17 2.94765573e-06\n",
      "  7.63368471e-24 7.87443652e-11 3.12878327e-16 2.73639929e-19\n",
      "  7.79372430e-14 1.09072040e-24 1.37348366e-07 1.23106265e-15\n",
      "  1.81422923e-21 1.38333948e-15 3.33989394e-22 1.87969271e-25\n",
      "  1.88786018e-11 8.24842272e-29 1.93342329e-23 1.03782441e-13\n",
      "  1.17282268e-19 1.60821578e-08 2.57916689e-01 2.05980266e-22\n",
      "  7.28369442e-19 6.77254442e-23 1.66245919e-19 5.35236255e-16\n",
      "  4.12139980e-06 1.55608004e-32 6.05318746e-05 2.39024856e-17\n",
      "  9.52538581e-09 4.78500559e-16 2.01858726e-14 1.67349780e-11\n",
      "  6.08786642e-20 3.76239160e-14 4.71059517e-23 1.95733125e-19\n",
      "  2.62190530e-12 1.80547331e-12 2.38302010e-20 1.19368129e-23\n",
      "  1.12347172e-22 3.13413706e-21 2.94943985e-23 6.38212429e-20\n",
      "  1.73109394e-21 8.11621314e-04 8.58762217e-09 1.05122652e-20\n",
      "  4.08286510e-22 2.01998644e-16 8.64523374e-21 1.37299541e-08\n",
      "  2.27969550e-14 1.30270182e-24 1.57430857e-09 2.84197467e-19\n",
      "  1.78290757e-05 3.52337793e-07 1.75837924e-24 4.91701747e-19\n",
      "  8.98865117e-16 1.30241174e-12 1.32825528e-10 2.46450698e-24\n",
      "  1.49831796e-15 2.04146677e-13 1.35182360e-23 3.57241220e-07\n",
      "  6.54011062e-20 2.62347180e-06 7.63135566e-27 5.30373275e-22\n",
      "  1.59806169e-13 4.23941554e-26 1.34000318e-22 1.67854078e-10\n",
      "  5.94811310e-18 1.33672736e-13 9.61076108e-14 1.65205434e-22\n",
      "  1.13254938e-23 1.06183150e-28 2.87727630e-07 4.15205932e-06\n",
      "  4.81145126e-13 1.11535201e-07 2.96251024e-10 9.05993880e-21\n",
      "  7.11152082e-10 7.32366987e-17 1.47962892e-15 1.72024927e-12\n",
      "  4.32125547e-15 5.27261871e-12 2.06252708e-16 1.84347426e-10\n",
      "  9.07566314e-11 1.89302892e-13 4.33472314e-06 2.82065136e-30\n",
      "  1.33420730e-33 3.28536605e-25 8.03632375e-25 1.16164709e-19\n",
      "  3.79226574e-20 2.30460246e-05 7.23595466e-21 2.90280145e-23\n",
      "  1.63835900e-09 7.36906413e-13 6.55486920e-19 2.61650443e-20\n",
      "  1.03356560e-05 1.68124584e-10 1.35125650e-14 1.33082548e-16\n",
      "  2.01589460e-24 4.45658017e-08 5.99883683e-15 7.38938859e-22\n",
      "  2.02669256e-15 1.34533984e-08 1.23665632e-18 8.88706331e-11\n",
      "  2.22035013e-09 1.53350705e-12 9.64319274e-20 6.94050240e-09\n",
      "  1.63659212e-31 1.41154467e-16 1.37314621e-11 1.54217417e-10\n",
      "  2.46960210e-26 3.32209106e-06 7.37312981e-18 2.67430057e-22\n",
      "  8.08088245e-08 1.15762413e-17 1.71312492e-10 4.34061210e-31\n",
      "  5.16456452e-12 1.01476307e-10 5.11355267e-07 5.85328599e-24\n",
      "  1.07175132e-16 1.54359534e-03 3.51604870e-33 1.93786837e-22\n",
      "  3.02623381e-21 1.76946701e-13 5.44123982e-11 6.30435534e-04\n",
      "  6.25238958e-16 8.09367361e-18 4.46713629e-22 6.66622259e-32\n",
      "  3.46680238e-34 2.08800033e-04 1.01304291e-30 3.05529771e-13\n",
      "  8.75904641e-14 1.71830525e-05 1.17965891e-21 4.94171097e-22\n",
      "  1.65812619e-19 7.29910069e-25 6.27480429e-11 1.62741071e-22\n",
      "  2.99269187e-09 6.47569409e-21 1.60497538e-22 1.70301391e-23\n",
      "  5.84169631e-19 9.66058755e-23 4.21299825e-26 2.06112113e-22\n",
      "  9.88411653e-25 3.56131236e-11 2.21398168e-05 1.25210917e-17\n",
      "  1.11554982e-12 1.64610837e-15 1.67318375e-13 1.91945317e-18\n",
      "  4.10548970e-18 3.69117421e-23 6.42726271e-15 1.79303950e-11\n",
      "  7.89836758e-06 1.44878550e-17 8.17631833e-26 1.16246540e-10\n",
      "  3.40259763e-19 2.85140112e-09 1.22150190e-09 2.57472797e-12\n",
      "  5.53612332e-13 2.67601788e-01 2.64258418e-18 2.03622185e-05\n",
      "  4.73031436e-15 1.54367797e-16 2.20865843e-25 5.53483754e-21\n",
      "  1.85084243e-16 1.79930636e-12 1.06565165e-11 1.43545085e-17\n",
      "  1.09637000e-18 1.46584388e-15 3.17791946e-28 5.24311372e-25\n",
      "  4.09176804e-10 9.83101489e-10 5.87059993e-26 7.36922936e-12\n",
      "  7.80943998e-31 1.98156383e-16 8.91374212e-18 1.98657247e-27\n",
      "  1.08994933e-27 3.14247018e-07 8.60612854e-18 1.97367283e-14\n",
      "  1.55817289e-23 4.61369241e-19 1.05413696e-25 2.77528933e-25\n",
      "  3.00808742e-14 8.70362749e-17 9.17117319e-23 7.43565040e-13\n",
      "  3.19667204e-09 1.97289336e-19 2.85990676e-36 8.66126281e-24\n",
      "  9.70482409e-15 7.45482923e-25 4.56870371e-25 1.67639643e-12\n",
      "  3.73820620e-18 2.10190226e-14 4.66054573e-08 2.94876932e-23\n",
      "  1.06755825e-13 1.37859827e-20 1.05116277e-22 2.73113255e-14\n",
      "  4.05244379e-23 1.88302929e-09 1.58960376e-15 4.96513494e-05\n",
      "  1.86821145e-19 3.93175163e-12 2.33422354e-15 1.55542661e-15\n",
      "  1.01278501e-14 7.01330230e-25 4.62225151e-17 1.58667341e-25\n",
      "  3.47016903e-13 1.59732195e-07 4.72937809e-21 1.26835583e-26\n",
      "  1.53597838e-12 9.58139227e-19 6.30679580e-27 1.68937446e-17\n",
      "  4.29111058e-14 5.13101228e-10 1.29662385e-15 7.65367340e-22\n",
      "  4.47456607e-21 1.82156894e-19 1.58573106e-14 1.28779686e-20\n",
      "  8.97760768e-20 6.56698545e-14 9.54112397e-27 3.88523790e-22\n",
      "  1.07851619e-23 2.34210573e-13 6.47685045e-22 9.55436042e-18\n",
      "  6.18274418e-25 6.93150179e-23 1.11734502e-18 3.17059053e-18\n",
      "  3.14367246e-17 3.89273953e-23 1.17228354e-25 9.37072642e-11\n",
      "  3.08390778e-11 2.83737995e-21 7.04360875e-11 4.40957814e-15\n",
      "  4.06572997e-19 4.10013710e-25 2.35576561e-29 8.38387790e-14\n",
      "  3.86452936e-12 4.63656770e-20 1.11255860e-13 5.97323062e-25\n",
      "  3.64102510e-26 4.55598694e-15 3.33436319e-08 2.19899858e-12\n",
      "  4.37326552e-26 2.54695650e-15 4.44817118e-20 2.68574695e-07\n",
      "  2.30668978e-12 1.20047422e-27]]\n",
      "26.760178804397583\n",
      "\n",
      "\n",
      "Model also considers 1650359841\n"
     ]
    }
   ],
   "source": [
    "confidence_threshold = 80\n",
    "\n",
    "raw_input = 'ร้องเรียนได้ที่ไหน'\n",
    "embed = encoder(raw_input)\n",
    "embed = tf.reshape(embed, (1, 1, 512))\n",
    "prediction = model.predict(embed)\n",
    "\n",
    "top2_ind = prediction.argsort()[:,::-1][:,:4]\n",
    "print(top2_ind[0])\n",
    "\n",
    "top_ind = prediction.argmax()\n",
    "print(top_ind)\n",
    "\n",
    "predicted_index = np.argmax(prediction)\n",
    "print(predicted_index)\n",
    "\n",
    "confidence = prediction[0][predicted_index] * 100\n",
    "match_intent = intent_df.loc[intent_df['intent_id'] == class_names[predicted_index]]\n",
    "answer = match_intent.to_numpy()\n",
    "\n",
    "print(f'Input: {raw_input}')\n",
    "print(f'Confidence: {confidence:.2f}%')\n",
    "print(f'Result: {answer[0]}')\n",
    "\n",
    "if confidence < confidence_threshold:\n",
    "    predicted_removed = np.delete(prediction, predicted_index, 1)\n",
    "    second_option = np.argmax(predicted_removed)\n",
    "    print(second_option)\n",
    "    print(predicted_removed)\n",
    "    confidence = predicted_removed[0][second_option] * 100\n",
    "    print(confidence)\n",
    "    print('\\n')\n",
    "    print(f'Model also considers {class_names[second_option]}')"
   ]
  },
  {
   "cell_type": "code",
   "execution_count": 11,
   "metadata": {},
   "outputs": [],
   "source": [
    "from sklearn.preprocessing import LabelEncoder"
   ]
  },
  {
   "cell_type": "code",
   "execution_count": 95,
   "metadata": {},
   "outputs": [
    {
     "name": "stdout",
     "output_type": "stream",
     "text": [
      "0        สวัสดี\n",
      "1    สวัสดีครับ\n",
      "2     สวัสดีค่ะ\n",
      "3         hello\n",
      "4            hi\n",
      "5      greeting\n",
      "6        สบายดี\n",
      "7         ว่าไง\n",
      "8      ถามหน่อย\n",
      "9       มีคำถาม\n",
      "Name: keyword, dtype: object\n",
      "['42fddf8b-9c83-4489-a4c8-586addeb4498'\n",
      " '4fa6ed26-eef8-46b4-b7df-23ec0becf933'\n",
      " '9b7420e9-678d-46e8-98cc-5d106b61e71f'\n",
      " 'f7716d57-1666-423a-be1d-7be24010889b']\n",
      "[3 3 3 3 3 3 3 3 3 3 1 1 1 1 1 1 1 1 1 1 1 1 0 0 0 0 2 2 2 2 2 2 2 2]\n",
      "Empty DataFrame\n",
      "Columns: [intent_id, response]\n",
      "Index: []\n",
      "None\n"
     ]
    }
   ],
   "source": [
    "df = pd.read_csv('dataset/v1/q_data.csv')\n",
    "y = df['intent_id']\n",
    "\n",
    "le = LabelEncoder()\n",
    "le.fit(y)\n",
    "print(le.classes_)\n",
    "\n",
    "labels = le.transform(y)\n",
    "print(labels)\n",
    "\n",
    "intent_id = '1c0ab913-6a04-4e44-a139-d7b8df8b9172'\n",
    "label_df = pd.read_csv('dataset/v1/a_data.csv')\n",
    "match = label_df.loc[label_df[\"intent_id\"] == intent_id]\n",
    "\n",
    "print(match)\n",
    "\n",
    "messages = match.to_dict(\"list\")[\"response\"] if not match.empty else None\n",
    "print(messages)"
   ]
  }
 ],
 "metadata": {
  "kernelspec": {
   "display_name": "Python 3.9.13 ('autobot')",
   "language": "python",
   "name": "python3"
  },
  "language_info": {
   "codemirror_mode": {
    "name": "ipython",
    "version": 3
   },
   "file_extension": ".py",
   "mimetype": "text/x-python",
   "name": "python",
   "nbconvert_exporter": "python",
   "pygments_lexer": "ipython3",
   "version": "3.9.13"
  },
  "orig_nbformat": 4,
  "vscode": {
   "interpreter": {
    "hash": "bc1ae1c4a63fb27a31f43134f4e5db0402df2726bb103cc85ed273abf3107fe7"
   }
  }
 },
 "nbformat": 4,
 "nbformat_minor": 2
}
